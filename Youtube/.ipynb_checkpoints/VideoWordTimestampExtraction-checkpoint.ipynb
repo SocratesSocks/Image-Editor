{
 "cells": [
  {
   "cell_type": "code",
   "execution_count": 1,
   "metadata": {},
   "outputs": [],
   "source": [
    "from youtube_transcript_api import YouTubeTranscriptApi\n",
    "from googleapiclient.discovery import build\n",
    "def convert(seconds): \n",
    "    seconds = seconds % (24 * 3600) \n",
    "    hour = seconds // 3600\n",
    "    seconds %= 3600\n",
    "    minutes = seconds // 60\n",
    "    seconds %= 60\n",
    "      \n",
    "    return \"%d:%02d:%02d\" % (hour, minutes, seconds) "
   ]
  },
  {
   "cell_type": "code",
   "execution_count": null,
   "metadata": {},
   "outputs": [],
   "source": [
    "search=input(\"Enter the keyword to be searched :\")\n",
    "channel=input(\"The channel Name or Id :\")\n"
   ]
  },
  {
   "cell_type": "code",
   "execution_count": null,
   "metadata": {},
   "outputs": [],
   "source": [
    "key='AIzaSyAtl09O7oTb0Fdsad6BbqsqImr3BRbsy'  #apikey"
   ]
  },
  {
   "cell_type": "code",
   "execution_count": null,
   "metadata": {},
   "outputs": [],
   "source": [
    "youtubeObject=build('youtube','v3',developerKey=key)"
   ]
  },
  {
   "cell_type": "code",
   "execution_count": null,
   "metadata": {},
   "outputs": [],
   "source": [
    "res=youtubeObject.channels().list(forUsername=channel,part='contentDetails').execute()\n",
    "playId=res['items'][0]['contentDetails']['relatedPlaylists']['uploads']"
   ]
  },
  {
   "cell_type": "code",
   "execution_count": null,
   "metadata": {},
   "outputs": [],
   "source": [
    "res=youtubeObject.playlistItems().list(playlistId=playId,part='snippet',maxResults=50).execute()\n"
   ]
  },
  {
   "cell_type": "code",
   "execution_count": null,
   "metadata": {},
   "outputs": [],
   "source": [
    "i=1\n",
    "for item in res['items']:\n",
    "    videoId=item['snippet']['resourceId']['videoId']\n",
    "    videoTitle=item['snippet']['title']\n",
    "    link=\"https://www.youtube.com/watch?v=\"+videoId\n",
    "    try:\n",
    "        transcript = YouTubeTranscriptApi.get_transcript(videoId)\n",
    "        print(videoTitle)\n",
    "        for segment in  transcript:\n",
    "            start=segment['start']\n",
    "            sentence=segment['text']\n",
    "            for word in sentence.split(' '):\n",
    "                  if word.upper()==search.upper():\n",
    "                        timestamp=convert(start)\n",
    "                        timeStampSplit=timestamp.split(\":\")\n",
    "                        linkWstamp=link+\"#t=\"+timeStampSplit[0]+\"h\"+timeStampSplit[1]+\"m\"+timeStampSplit[2]+\"s\"\n",
    "                        print(linkWstamp)\n",
    "    except: \n",
    "        pass"
   ]
  }
 ],
 "metadata": {
  "kernelspec": {
   "display_name": "Python 3",
   "language": "python",
   "name": "python3"
  },
  "language_info": {
   "codemirror_mode": {
    "name": "ipython",
    "version": 3
   },
   "file_extension": ".py",
   "mimetype": "text/x-python",
   "name": "python",
   "nbconvert_exporter": "python",
   "pygments_lexer": "ipython3",
   "version": "3.7.4"
  }
 },
 "nbformat": 4,
 "nbformat_minor": 2
}
