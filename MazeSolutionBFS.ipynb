{
 "cells": [
  {
   "cell_type": "code",
   "execution_count": 1,
   "metadata": {},
   "outputs": [],
   "source": [
    "''' 10 --- Wall , 20 --- starting position , 30 ---- final destination '''\n",
    "\n",
    "\n",
    "game=[[10,10,10,10,10,10,10,10,10,10,10,10,10,10,10,10,10,10,10,10,10,10,10,10],\n",
    "      [10,10,10,10,10,10,10,10,10,10,10,10,10,10,10,10,10,10,10,10,30,10,10,10],\n",
    "      [10,10,10,10,0,10,10,10,10,10,10,10,10,10,10,10,10,10,10,10,0,10,10,10],\n",
    "      [10,10,10,10,0,10,10,10,10,10,10,10,10,10,10,10,10,10,10,10,0,10,10,10],\n",
    "      [10,10,10,10,0,10,10,10,10,10,10,10,10,10,10,10,10,10,10,10,0,0,0,10],\n",
    "      [10,10,20,10,0,10,10,10,10,10,10,10,10,10,10,10,10,10,10,10,10,0,10,10],\n",
    "      [10,10,0,0,0,0,0,0,10,10,10,10,10,10,10,10,10,10,10,10,10,0,10,10],\n",
    "      [10,10,0,10,10,10,10,0,10,10,10,10,10,10,10,10,10,10,10,10,10,0,10,10],\n",
    "      [10,10,0,10,10,10,10,0,10,10,10,10,10,10,10,0,10,10,10,10,10,0,10,10],\n",
    "      [10,10,0,10,10,10,10,0,10,10,10,10,10,10,10,0,0,0,0,0,0,0,10,10],\n",
    "      [10,0,0,0,0,0,0,0,0,0,0,0,0,10,10,10,0,0,10,10,10,0,0,10],\n",
    "      [10,0,10,10,0,10,10,10,0,10,10,10,10,10,10,0,0,10,10,10,10,10,10,10],\n",
    "      [10,0,10,10,0,0,0,0,0,0,0,0,0,10,10,0,10,10,10,10,10,10,10,10],\n",
    "      [10,0,10,10,0,10,10,10,10,10,10,10,10,10,10,0,10,10,10,10,10,10,10,10],\n",
    "      [10,0,10,10,0,10,10,10,10,10,10,10,10,10,10,0,10,10,10,10,10,10,10,10],\n",
    "      [10,0,10,10,0,10,10,10,10,10,10,10,10,10,10,0,10,10,10,10,10,10,10,10],\n",
    "      [10,0,0,0,0,10,10,10,10,10,10,0,10,10,10,0,0,10,10,10,10,10,10,10],\n",
    "      [10,0,10,10,0,10,10,10,10,10,10,0,10,10,10,0,10,10,10,10,10,10,10,10],\n",
    "      [10,0,10,10,0,10,10,10,10,10,10,0,10,10,10,0,10,10,10,10,10,10,10,10],\n",
    "      [10,0,0,0,0,0,0,0,0,0,0,0,0,0,0,0,0,0,0,0,10,10,10,10],\n",
    "      [10,10,10,10,10,0,10,10,10,0,10,10,10,10,10,10,10,10,10,10,10,10,10,10],\n",
    "      [10,10,10,10,10,0,10,10,10,0,10,10,10,10,10,10,10,10,10,10,10,10,10,10],\n",
    "      [10,10,10,10,10,0,10,10,10,0,10,10,10,10,10,10,10,10,10,10,10,10,10,10],\n",
    "      [10,10,10,10,10,0,0,0,0,0,10,10,10,10,10,10,10,10,10,10,10,10,10,10],\n",
    "      [10,10,10,10,10,10,10,10,10,10,10,10,10,10,10,10,10,10,10,10,10,10,10,10]\n",
    "     ]"
   ]
  },
  {
   "cell_type": "code",
   "execution_count": 2,
   "metadata": {},
   "outputs": [],
   "source": [
    "rows=len(game)\n",
    "cols=len(game[0])"
   ]
  },
  {
   "cell_type": "code",
   "execution_count": 3,
   "metadata": {},
   "outputs": [
    {
     "name": "stdout",
     "output_type": "stream",
     "text": [
      "25 24\n"
     ]
    }
   ],
   "source": [
    "print(rows,cols)\n",
    "graph={}"
   ]
  },
  {
   "cell_type": "code",
   "execution_count": 4,
   "metadata": {},
   "outputs": [],
   "source": [
    "import numpy as np\n",
    "import matplotlib.pyplot as plt"
   ]
  },
  {
   "cell_type": "code",
   "execution_count": 5,
   "metadata": {},
   "outputs": [
    {
     "data": {
      "text/plain": [
       "<matplotlib.image.AxesImage at 0x22a43535e48>"
      ]
     },
     "execution_count": 5,
     "metadata": {},
     "output_type": "execute_result"
    },
    {
     "data": {
      "image/png": "[encoded data removed]",
      "text/plain": [
       "<Figure size 432x288 with 1 Axes>"
      ]
     },
     "metadata": {
      "needs_background": "light"
     },
     "output_type": "display_data"
    }
   ],
   "source": [
    "plt.imshow(np.array(game,dtype='float32')[1:rows-1,1:cols-1])"
   ]
  },
  {
   "cell_type": "code",
   "execution_count": 6,
   "metadata": {},
   "outputs": [],
   "source": [
    "for i in range(1,rows-1):\n",
    "    for j in range(1,cols-1):\n",
    "        if(game[i][j]!=10):\n",
    "            adj=[]\n",
    "            for ele in [(i-1,j),(i+1,j),(i,j-1),(i,j+1)]:\n",
    "                if game[ele[0]][ele[1]] == 0 or game[ele[0]][ele[1]] == 20 or game[ele[0]][ele[1]] == 30 :\n",
    "                    adj.append((ele[0],ele[1]))\n",
    "            graph[(i,j)]=adj\n",
    "        \n",
    "    "
   ]
  },
  {
   "cell_type": "code",
   "execution_count": 7,
   "metadata": {},
   "outputs": [
    {
     "data": {
      "text/plain": [
       "{(1, 20): [(2, 20)],\n",
       " (2, 4): [(3, 4)],\n",
       " (2, 20): [(1, 20), (3, 20)],\n",
       " (3, 4): [(2, 4), (4, 4)],\n",
       " (3, 20): [(2, 20), (4, 20)],\n",
       " (4, 4): [(3, 4), (5, 4)],\n",
       " (4, 20): [(3, 20), (4, 21)],\n",
       " (4, 21): [(5, 21), (4, 20), (4, 22)],\n",
       " (4, 22): [(4, 21)],\n",
       " (5, 2): [(6, 2)],\n",
       " (5, 4): [(4, 4), (6, 4)],\n",
       " (5, 21): [(4, 21), (6, 21)],\n",
       " (6, 2): [(5, 2), (7, 2), (6, 3)],\n",
       " (6, 3): [(6, 2), (6, 4)],\n",
       " (6, 4): [(5, 4), (6, 3), (6, 5)],\n",
       " (6, 5): [(6, 4), (6, 6)],\n",
       " (6, 6): [(6, 5), (6, 7)],\n",
       " (6, 7): [(7, 7), (6, 6)],\n",
       " (6, 21): [(5, 21), (7, 21)],\n",
       " (7, 2): [(6, 2), (8, 2)],\n",
       " (7, 7): [(6, 7), (8, 7)],\n",
       " (7, 21): [(6, 21), (8, 21)],\n",
       " (8, 2): [(7, 2), (9, 2)],\n",
       " (8, 7): [(7, 7), (9, 7)],\n",
       " (8, 15): [(9, 15)],\n",
       " (8, 21): [(7, 21), (9, 21)],\n",
       " (9, 2): [(8, 2), (10, 2)],\n",
       " (9, 7): [(8, 7), (10, 7)],\n",
       " (9, 15): [(8, 15), (9, 16)],\n",
       " (9, 16): [(10, 16), (9, 15), (9, 17)],\n",
       " (9, 17): [(10, 17), (9, 16), (9, 18)],\n",
       " (9, 18): [(9, 17), (9, 19)],\n",
       " (9, 19): [(9, 18), (9, 20)],\n",
       " (9, 20): [(9, 19), (9, 21)],\n",
       " (9, 21): [(8, 21), (10, 21), (9, 20)],\n",
       " (10, 1): [(11, 1), (10, 2)],\n",
       " (10, 2): [(9, 2), (10, 1), (10, 3)],\n",
       " (10, 3): [(10, 2), (10, 4)],\n",
       " (10, 4): [(11, 4), (10, 3), (10, 5)],\n",
       " (10, 5): [(10, 4), (10, 6)],\n",
       " (10, 6): [(10, 5), (10, 7)],\n",
       " (10, 7): [(9, 7), (10, 6), (10, 8)],\n",
       " (10, 8): [(11, 8), (10, 7), (10, 9)],\n",
       " (10, 9): [(10, 8), (10, 10)],\n",
       " (10, 10): [(10, 9), (10, 11)],\n",
       " (10, 11): [(10, 10), (10, 12)],\n",
       " (10, 12): [(10, 11)],\n",
       " (10, 16): [(9, 16), (11, 16), (10, 17)],\n",
       " (10, 17): [(9, 17), (10, 16)],\n",
       " (10, 21): [(9, 21), (10, 22)],\n",
       " (10, 22): [(10, 21)],\n",
       " (11, 1): [(10, 1), (12, 1)],\n",
       " (11, 4): [(10, 4), (12, 4)],\n",
       " (11, 8): [(10, 8), (12, 8)],\n",
       " (11, 15): [(12, 15), (11, 16)],\n",
       " (11, 16): [(10, 16), (11, 15)],\n",
       " (12, 1): [(11, 1), (13, 1)],\n",
       " (12, 4): [(11, 4), (13, 4), (12, 5)],\n",
       " (12, 5): [(12, 4), (12, 6)],\n",
       " (12, 6): [(12, 5), (12, 7)],\n",
       " (12, 7): [(12, 6), (12, 8)],\n",
       " (12, 8): [(11, 8), (12, 7), (12, 9)],\n",
       " (12, 9): [(12, 8), (12, 10)],\n",
       " (12, 10): [(12, 9), (12, 11)],\n",
       " (12, 11): [(12, 10), (12, 12)],\n",
       " (12, 12): [(12, 11)],\n",
       " (12, 15): [(11, 15), (13, 15)],\n",
       " (13, 1): [(12, 1), (14, 1)],\n",
       " (13, 4): [(12, 4), (14, 4)],\n",
       " (13, 15): [(12, 15), (14, 15)],\n",
       " (14, 1): [(13, 1), (15, 1)],\n",
       " (14, 4): [(13, 4), (15, 4)],\n",
       " (14, 15): [(13, 15), (15, 15)],\n",
       " (15, 1): [(14, 1), (16, 1)],\n",
       " (15, 4): [(14, 4), (16, 4)],\n",
       " (15, 15): [(14, 15), (16, 15)],\n",
       " (16, 1): [(15, 1), (17, 1), (16, 2)],\n",
       " (16, 2): [(16, 1), (16, 3)],\n",
       " (16, 3): [(16, 2), (16, 4)],\n",
       " (16, 4): [(15, 4), (17, 4), (16, 3)],\n",
       " (16, 11): [(17, 11)],\n",
       " (16, 15): [(15, 15), (17, 15), (16, 16)],\n",
       " (16, 16): [(16, 15)],\n",
       " (17, 1): [(16, 1), (18, 1)],\n",
       " (17, 4): [(16, 4), (18, 4)],\n",
       " (17, 11): [(16, 11), (18, 11)],\n",
       " (17, 15): [(16, 15), (18, 15)],\n",
       " (18, 1): [(17, 1), (19, 1)],\n",
       " (18, 4): [(17, 4), (19, 4)],\n",
       " (18, 11): [(17, 11), (19, 11)],\n",
       " (18, 15): [(17, 15), (19, 15)],\n",
       " (19, 1): [(18, 1), (19, 2)],\n",
       " (19, 2): [(19, 1), (19, 3)],\n",
       " (19, 3): [(19, 2), (19, 4)],\n",
       " (19, 4): [(18, 4), (19, 3), (19, 5)],\n",
       " (19, 5): [(20, 5), (19, 4), (19, 6)],\n",
       " (19, 6): [(19, 5), (19, 7)],\n",
       " (19, 7): [(19, 6), (19, 8)],\n",
       " (19, 8): [(19, 7), (19, 9)],\n",
       " (19, 9): [(20, 9), (19, 8), (19, 10)],\n",
       " (19, 10): [(19, 9), (19, 11)],\n",
       " (19, 11): [(18, 11), (19, 10), (19, 12)],\n",
       " (19, 12): [(19, 11), (19, 13)],\n",
       " (19, 13): [(19, 12), (19, 14)],\n",
       " (19, 14): [(19, 13), (19, 15)],\n",
       " (19, 15): [(18, 15), (19, 14), (19, 16)],\n",
       " (19, 16): [(19, 15), (19, 17)],\n",
       " (19, 17): [(19, 16), (19, 18)],\n",
       " (19, 18): [(19, 17), (19, 19)],\n",
       " (19, 19): [(19, 18)],\n",
       " (20, 5): [(19, 5), (21, 5)],\n",
       " (20, 9): [(19, 9), (21, 9)],\n",
       " (21, 5): [(20, 5), (22, 5)],\n",
       " (21, 9): [(20, 9), (22, 9)],\n",
       " (22, 5): [(21, 5), (23, 5)],\n",
       " (22, 9): [(21, 9), (23, 9)],\n",
       " (23, 5): [(22, 5), (23, 6)],\n",
       " (23, 6): [(23, 5), (23, 7)],\n",
       " (23, 7): [(23, 6), (23, 8)],\n",
       " (23, 8): [(23, 7), (23, 9)],\n",
       " (23, 9): [(22, 9), (23, 8)]}"
      ]
     },
     "execution_count": 7,
     "metadata": {},
     "output_type": "execute_result"
    }
   ],
   "source": [
    "graph"
   ]
  },
  {
   "cell_type": "code",
   "execution_count": 8,
   "metadata": {},
   "outputs": [
    {
     "name": "stdout",
     "output_type": "stream",
     "text": [
      "Done\n"
     ]
    }
   ],
   "source": [
    "frontire=[(5,2)]\n",
    "visited=[]\n",
    "parent={(5,2):None}\n",
    "flag=True\n",
    "goal=(1,20)\n",
    "while(flag):\n",
    "    if(len(frontire)==0):\n",
    "        print('No solution')\n",
    "        break\n",
    "    curr_node=frontire[0]\n",
    "    frontire=frontire[1:]\n",
    "    visited.append(curr_node)\n",
    "    curr_node_front=graph[curr_node]\n",
    "    if(curr_node==goal):\n",
    "        print('Done')\n",
    "        flag=False\n",
    "        break\n",
    "    for ele in curr_node_front:\n",
    "        if ele not in visited :\n",
    "            frontire.append(ele)\n",
    "            parent[ele]=curr_node"
   ]
  },
  {
   "cell_type": "code",
   "execution_count": 9,
   "metadata": {},
   "outputs": [
    {
     "data": {
      "text/plain": [
       "{(5, 2): None,\n",
       " (6, 2): (5, 2),\n",
       " (7, 2): (6, 2),\n",
       " (6, 3): (6, 2),\n",
       " (8, 2): (7, 2),\n",
       " (6, 4): (6, 3),\n",
       " (9, 2): (8, 2),\n",
       " (5, 4): (6, 4),\n",
       " (6, 5): (6, 4),\n",
       " (10, 2): (9, 2),\n",
       " (4, 4): (5, 4),\n",
       " (6, 6): (6, 5),\n",
       " (10, 1): (10, 2),\n",
       " (10, 3): (10, 2),\n",
       " (3, 4): (4, 4),\n",
       " (6, 7): (6, 6),\n",
       " (11, 1): (10, 1),\n",
       " (10, 4): (10, 3),\n",
       " (2, 4): (3, 4),\n",
       " (7, 7): (6, 7),\n",
       " (12, 1): (11, 1),\n",
       " (11, 4): (10, 4),\n",
       " (10, 5): (10, 4),\n",
       " (8, 7): (7, 7),\n",
       " (13, 1): (12, 1),\n",
       " (12, 4): (11, 4),\n",
       " (10, 6): (10, 5),\n",
       " (9, 7): (8, 7),\n",
       " (14, 1): (13, 1),\n",
       " (13, 4): (12, 4),\n",
       " (12, 5): (12, 4),\n",
       " (10, 7): (9, 7),\n",
       " (15, 1): (14, 1),\n",
       " (14, 4): (13, 4),\n",
       " (12, 6): (12, 5),\n",
       " (10, 8): (10, 7),\n",
       " (16, 1): (15, 1),\n",
       " (15, 4): (14, 4),\n",
       " (12, 7): (12, 6),\n",
       " (11, 8): (10, 8),\n",
       " (10, 9): (10, 8),\n",
       " (17, 1): (16, 1),\n",
       " (16, 2): (16, 1),\n",
       " (16, 4): (15, 4),\n",
       " (12, 8): (11, 8),\n",
       " (10, 10): (10, 9),\n",
       " (18, 1): (17, 1),\n",
       " (16, 3): (16, 4),\n",
       " (17, 4): (16, 4),\n",
       " (12, 9): (12, 8),\n",
       " (10, 11): (10, 10),\n",
       " (19, 1): (18, 1),\n",
       " (18, 4): (17, 4),\n",
       " (12, 10): (12, 9),\n",
       " (10, 12): (10, 11),\n",
       " (19, 2): (19, 1),\n",
       " (19, 4): (18, 4),\n",
       " (12, 11): (12, 10),\n",
       " (19, 3): (19, 4),\n",
       " (19, 5): (19, 4),\n",
       " (12, 12): (12, 11),\n",
       " (20, 5): (19, 5),\n",
       " (19, 6): (19, 5),\n",
       " (21, 5): (20, 5),\n",
       " (19, 7): (19, 6),\n",
       " (22, 5): (21, 5),\n",
       " (19, 8): (19, 7),\n",
       " (23, 5): (22, 5),\n",
       " (19, 9): (19, 8),\n",
       " (23, 6): (23, 5),\n",
       " (20, 9): (19, 9),\n",
       " (19, 10): (19, 9),\n",
       " (23, 7): (23, 6),\n",
       " (21, 9): (20, 9),\n",
       " (19, 11): (19, 10),\n",
       " (23, 8): (23, 7),\n",
       " (22, 9): (21, 9),\n",
       " (18, 11): (19, 11),\n",
       " (19, 12): (19, 11),\n",
       " (23, 9): (22, 9),\n",
       " (17, 11): (18, 11),\n",
       " (19, 13): (19, 12),\n",
       " (16, 11): (17, 11),\n",
       " (19, 14): (19, 13),\n",
       " (19, 15): (19, 14),\n",
       " (18, 15): (19, 15),\n",
       " (19, 16): (19, 15),\n",
       " (17, 15): (18, 15),\n",
       " (19, 17): (19, 16),\n",
       " (16, 15): (17, 15),\n",
       " (19, 18): (19, 17),\n",
       " (15, 15): (16, 15),\n",
       " (16, 16): (16, 15),\n",
       " (19, 19): (19, 18),\n",
       " (14, 15): (15, 15),\n",
       " (13, 15): (14, 15),\n",
       " (12, 15): (13, 15),\n",
       " (11, 15): (12, 15),\n",
       " (11, 16): (11, 15),\n",
       " (10, 16): (11, 16),\n",
       " (9, 16): (10, 16),\n",
       " (10, 17): (10, 16),\n",
       " (9, 15): (9, 16),\n",
       " (9, 17): (10, 17),\n",
       " (8, 15): (9, 15),\n",
       " (9, 18): (9, 17),\n",
       " (9, 19): (9, 18),\n",
       " (9, 20): (9, 19),\n",
       " (9, 21): (9, 20),\n",
       " (8, 21): (9, 21),\n",
       " (10, 21): (9, 21),\n",
       " (7, 21): (8, 21),\n",
       " (10, 22): (10, 21),\n",
       " (6, 21): (7, 21),\n",
       " (5, 21): (6, 21),\n",
       " (4, 21): (5, 21),\n",
       " (4, 20): (4, 21),\n",
       " (4, 22): (4, 21),\n",
       " (3, 20): (4, 20),\n",
       " (2, 20): (3, 20),\n",
       " (1, 20): (2, 20)}"
      ]
     },
     "execution_count": 9,
     "metadata": {},
     "output_type": "execute_result"
    }
   ],
   "source": [
    "parent"
   ]
  },
  {
   "cell_type": "code",
   "execution_count": 10,
   "metadata": {},
   "outputs": [],
   "source": [
    "front=parent[goal]\n",
    "path=[]\n",
    "while(True):\n",
    "    f=front\n",
    "    path.append(front)\n",
    "    front=parent[f]\n",
    "    if(front==None):\n",
    "        break"
   ]
  },
  {
   "cell_type": "code",
   "execution_count": 12,
   "metadata": {},
   "outputs": [
    {
     "data": {
      "text/plain": [
       "[(2, 20),\n",
       " (3, 20),\n",
       " (4, 20),\n",
       " (4, 21),\n",
       " (5, 21),\n",
       " (6, 21),\n",
       " (7, 21),\n",
       " (8, 21),\n",
       " (9, 21),\n",
       " (9, 20),\n",
       " (9, 19),\n",
       " (9, 18),\n",
       " (9, 17),\n",
       " (10, 17),\n",
       " (10, 16),\n",
       " (11, 16),\n",
       " (11, 15),\n",
       " (12, 15),\n",
       " (13, 15),\n",
       " (14, 15),\n",
       " (15, 15),\n",
       " (16, 15),\n",
       " (17, 15),\n",
       " (18, 15),\n",
       " (19, 15),\n",
       " (19, 14),\n",
       " (19, 13),\n",
       " (19, 12),\n",
       " (19, 11),\n",
       " (19, 10),\n",
       " (19, 9),\n",
       " (19, 8),\n",
       " (19, 7),\n",
       " (19, 6),\n",
       " (19, 5),\n",
       " (19, 4),\n",
       " (18, 4),\n",
       " (17, 4),\n",
       " (16, 4),\n",
       " (15, 4),\n",
       " (14, 4),\n",
       " (13, 4),\n",
       " (12, 4),\n",
       " (11, 4),\n",
       " (10, 4),\n",
       " (10, 3),\n",
       " (10, 2),\n",
       " (9, 2),\n",
       " (8, 2),\n",
       " (7, 2),\n",
       " (6, 2),\n",
       " (5, 2)]"
      ]
     },
     "execution_count": 12,
     "metadata": {},
     "output_type": "execute_result"
    }
   ],
   "source": [
    "''' solution path from start to destination '''\n",
    "path"
   ]
  },
  {
   "cell_type": "code",
   "execution_count": 13,
   "metadata": {},
   "outputs": [
    {
     "name": "stdout",
     "output_type": "stream",
     "text": [
      "\n",
      "\n",
      "\n",
      "\n",
      "\n",
      "\n",
      "\n",
      "\n",
      "\n",
      "\n",
      "\n",
      "\n",
      "\n",
      "\n",
      "\n",
      "\n",
      "\n",
      "\n",
      "\n",
      "\n",
      "\n",
      "\n",
      "\n"
     ]
    }
   ],
   "source": [
    "''' Filling the solution path  '''\n",
    "\n",
    "for i in range(1,rows-1):\n",
    "    for j in range(1,cols-1):\n",
    "        if((i,j) in path):\n",
    "            game[i][j]=50\n",
    "    print()"
   ]
  },
  {
   "cell_type": "code",
   "execution_count": 14,
   "metadata": {},
   "outputs": [
    {
     "data": {
      "text/plain": [
       "<matplotlib.image.AxesImage at 0x22a468ad5c8>"
      ]
     },
     "execution_count": 14,
     "metadata": {},
     "output_type": "execute_result"
    },
    {
     "data": {
      "image/png": "[encoded data removed]",
      "text/plain": [
       "<Figure size 432x288 with 1 Axes>"
      ]
     },
     "metadata": {
      "needs_background": "light"
     },
     "output_type": "display_data"
    }
   ],
   "source": [
    "plt.imshow(np.array(game,dtype='float32')[1:rows-1,1:cols-1])"
   ]
  },
  {
   "cell_type": "code",
   "execution_count": null,
   "metadata": {},
   "outputs": [],
   "source": []
  }
 ],
 "metadata": {
  "kernelspec": {
   "display_name": "Python 3",
   "language": "python",
   "name": "python3"
  },
  "language_info": {
   "codemirror_mode": {
    "name": "ipython",
    "version": 3
   },
   "file_extension": ".py",
   "mimetype": "text/x-python",
   "name": "python",
   "nbconvert_exporter": "python",
   "pygments_lexer": "ipython3",
   "version": "3.7.4"
  }
 },
 "nbformat": 4,
 "nbformat_minor": 2
}
